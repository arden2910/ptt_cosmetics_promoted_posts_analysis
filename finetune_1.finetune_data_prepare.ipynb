{
 "cells": [
  {
   "cell_type": "code",
   "execution_count": 49,
   "id": "initial_id",
   "metadata": {
    "collapsed": true,
    "ExecuteTime": {
     "end_time": "2024-08-11T05:48:48.692553957Z",
     "start_time": "2024-08-11T05:48:35.929384369Z"
    }
   },
   "outputs": [],
   "source": [
    "import json\n",
    "with open('data/json/makeup.json', 'r') as f:\n",
    "    makeup = json.load(f)\n",
    "\n",
    "\n",
    "\n",
    "import re\n",
    "def merge_push_content_by_userid(messages):\n",
    "    result = {}\n",
    "    for message in messages:\n",
    "        userid = message[\"push_userid\"]\n",
    "        content = message[\"push_content\"]\n",
    "        if userid in result:\n",
    "            result[userid].append(content)\n",
    "        else:\n",
    "            result[userid] = [content]\n",
    "    output = []\n",
    "    for k,v in result.items():\n",
    "        output.append(v)\n",
    "    return output\n",
    "\n",
    "def is_review_post(post_title):\n",
    "    # Check if the title starts with \"[心得]\"\n",
    "    return post_title.startswith(\"[心得]\")\n",
    "\n",
    "def find_elements_in_string(input_string, elements_list):\n",
    "    # Convert the string to lower case to make the search case-insensitive\n",
    "    input_string = input_string.lower()\n",
    "\n",
    "    # Initialize an empty list to store the elements found in the string\n",
    "    found_elements = []\n",
    "\n",
    "    # Iterate through each element in the elements list\n",
    "    for element in elements_list:\n",
    "        # Check if the element is present in the string\n",
    "        if element.lower() in input_string:\n",
    "            # If present, add the element to the found_elements list\n",
    "            found_elements.append(element)\n",
    "\n",
    "    # Return the list of found elements\n",
    "    return found_elements\n",
    "\n",
    "def remove_punctuation(input_string):\n",
    "    # Define a regular expression pattern to match all punctuation marks\n",
    "    pattern = r'[^\\w\\s]'\n",
    "    # Use re.sub to replace all punctuation marks with an empty string\n",
    "    cleaned_string = re.sub(pattern, '', input_string)\n",
    "    return cleaned_string\n",
    "\n",
    "\n",
    "def replace_links_as_img(text):\n",
    "    url_pattern = r'https?://\\S+|www\\.\\S+'\n",
    "    # Replace all links matching the pattern with the string \"<image>\"\n",
    "    replaced_text = re.sub(url_pattern, '<image>', text)\n",
    "    return replaced_text\n",
    "# Step 2: Transformation\n",
    "posts = []\n",
    "\n",
    "# Filter out posts that are not article_title\n",
    "makeup = [m for m in makeup if m['article_title']  and m['article_title'] != '' ]\n",
    "makeup = [m for m in makeup if m['article_title'].startswith('[心得]')]  # 只取心得文章\n",
    "for i,_ in enumerate(makeup):\n",
    "\n",
    "    post ={}\n",
    "    post['title'] = _['article_title']\n",
    "    post['content'] = replace_links_as_img(_['content'])\n",
    "\n",
    "    posts.append(post)\n",
    "\n",
    "    \n"
   ]
  },
  {
   "cell_type": "code",
   "execution_count": 50,
   "outputs": [
    {
     "data": {
      "text/plain": "<Figure size 640x480 with 1 Axes>",
      "image/png": "[encoded data removed]"
     },
     "metadata": {},
     "output_type": "display_data"
    }
   ],
   "source": [
    "import seaborn as sns\n",
    "import matplotlib.pyplot as plt\n",
    "import numpy as np\n",
    "\n",
    "def plot_trimmed_content_length_distribution(posts, trim_threshold=None):\n",
    "    # 計算每篇文章的字數長度\n",
    "    content_lengths = [len(post['content']) for post in posts]\n",
    "    \n",
    "    # 如果指定了 trim_threshold，則只保留小於此閾值的數據\n",
    "    if trim_threshold:\n",
    "        content_lengths = [length for length in content_lengths if length <= trim_threshold]\n",
    "    \n",
    "    # 創建 seaborn 直方圖\n",
    "    sns.histplot(content_lengths, kde=False)\n",
    "    \n",
    "    # 設置 X 軸和 Y 軸標籤以及圖表標題\n",
    "    plt.xlabel('Content Length (Number of Characters)')\n",
    "    plt.ylabel('Frequency')\n",
    "    plt.title('Distribution of Post Content Lengths (Trimmed)')\n",
    "    \n",
    "    # 顯示圖表\n",
    "    plt.show()\n",
    "\n",
    "# 使用範例：\n",
    "# 這裡的 trim_threshold 是一個指定的字數長度閾值，只顯示小於該長度的內容\n",
    "plot_trimmed_content_length_distribution(posts, trim_threshold=4000)\n"
   ],
   "metadata": {
    "collapsed": false,
    "ExecuteTime": {
     "end_time": "2024-08-11T05:48:49.152768559Z",
     "start_time": "2024-08-11T05:48:48.710560337Z"
    }
   },
   "id": "53f6285b0a579b4b"
  },
  {
   "cell_type": "code",
   "execution_count": 51,
   "outputs": [
    {
     "name": "stdout",
     "output_type": "stream",
     "text": [
      "Defaulting to user installation because normal site-packages is not writeable\r\n",
      "Looking in indexes: https://pypi.org/simple, https://pypi.ngc.nvidia.com\r\n",
      "Requirement already satisfied: seaborn in /home/arden/.local/lib/python3.10/site-packages (0.13.2)\r\n",
      "Requirement already satisfied: numpy!=1.24.0,>=1.20 in /home/arden/.local/lib/python3.10/site-packages (from seaborn) (1.26.4)\r\n",
      "Requirement already satisfied: pandas>=1.2 in /home/arden/.local/lib/python3.10/site-packages (from seaborn) (2.2.2)\r\n",
      "Requirement already satisfied: matplotlib!=3.6.1,>=3.4 in /home/arden/.local/lib/python3.10/site-packages (from seaborn) (3.9.0)\r\n",
      "Requirement already satisfied: contourpy>=1.0.1 in /home/arden/.local/lib/python3.10/site-packages (from matplotlib!=3.6.1,>=3.4->seaborn) (1.2.1)\r\n",
      "Requirement already satisfied: cycler>=0.10 in /home/arden/.local/lib/python3.10/site-packages (from matplotlib!=3.6.1,>=3.4->seaborn) (0.12.1)\r\n",
      "Requirement already satisfied: fonttools>=4.22.0 in /home/arden/.local/lib/python3.10/site-packages (from matplotlib!=3.6.1,>=3.4->seaborn) (4.53.0)\r\n",
      "Requirement already satisfied: kiwisolver>=1.3.1 in /home/arden/.local/lib/python3.10/site-packages (from matplotlib!=3.6.1,>=3.4->seaborn) (1.4.5)\r\n",
      "Requirement already satisfied: packaging>=20.0 in /home/arden/.local/lib/python3.10/site-packages (from matplotlib!=3.6.1,>=3.4->seaborn) (24.1)\r\n",
      "Requirement already satisfied: pillow>=8 in /home/arden/.local/lib/python3.10/site-packages (from matplotlib!=3.6.1,>=3.4->seaborn) (10.3.0)\r\n",
      "Requirement already satisfied: pyparsing>=2.3.1 in /home/arden/.local/lib/python3.10/site-packages (from matplotlib!=3.6.1,>=3.4->seaborn) (3.1.2)\r\n",
      "Requirement already satisfied: python-dateutil>=2.7 in /home/arden/.local/lib/python3.10/site-packages (from matplotlib!=3.6.1,>=3.4->seaborn) (2.9.0.post0)\r\n",
      "Requirement already satisfied: pytz>=2020.1 in /home/arden/.local/lib/python3.10/site-packages (from pandas>=1.2->seaborn) (2024.1)\r\n",
      "Requirement already satisfied: tzdata>=2022.7 in /home/arden/.local/lib/python3.10/site-packages (from pandas>=1.2->seaborn) (2024.1)\r\n",
      "Requirement already satisfied: six>=1.5 in /usr/lib/python3/dist-packages (from python-dateutil>=2.7->matplotlib!=3.6.1,>=3.4->seaborn) (1.14.0)\r\n",
      "\u001B[33mDEPRECATION: distro-info 0.23ubuntu1 has a non-standard version number. pip 24.1 will enforce this behaviour change. A possible replacement is to upgrade to a newer version of distro-info or contact the author to suggest that they release a version with a conforming version number. Discussion can be found at https://github.com/pypa/pip/issues/12063\u001B[0m\u001B[33m\r\n",
      "\u001B[0m\u001B[33mDEPRECATION: python-debian 0.1.36ubuntu1 has a non-standard version number. pip 24.1 will enforce this behaviour change. A possible replacement is to upgrade to a newer version of python-debian or contact the author to suggest that they release a version with a conforming version number. Discussion can be found at https://github.com/pypa/pip/issues/12063\u001B[0m\u001B[33m\r\n",
      "\u001B[0m\r\n",
      "\u001B[1m[\u001B[0m\u001B[34;49mnotice\u001B[0m\u001B[1;39;49m]\u001B[0m\u001B[39;49m A new release of pip is available: \u001B[0m\u001B[31;49m24.0\u001B[0m\u001B[39;49m -> \u001B[0m\u001B[32;49m24.2\u001B[0m\r\n",
      "\u001B[1m[\u001B[0m\u001B[34;49mnotice\u001B[0m\u001B[1;39;49m]\u001B[0m\u001B[39;49m To update, run: \u001B[0m\u001B[32;49mpython3.10 -m pip install --upgrade pip\u001B[0m\r\n"
     ]
    }
   ],
   "source": [
    "!pip install -U seaborn"
   ],
   "metadata": {
    "collapsed": false,
    "ExecuteTime": {
     "end_time": "2024-08-11T05:48:55.762652475Z",
     "start_time": "2024-08-11T05:48:49.154209916Z"
    }
   },
   "id": "8cfeb76e78b3bff0"
  },
  {
   "cell_type": "code",
   "execution_count": 52,
   "outputs": [],
   "source": [
    "import pandas as pd\n",
    "post_df = pd.DataFrame(posts)\n"
   ],
   "metadata": {
    "collapsed": false,
    "ExecuteTime": {
     "end_time": "2024-08-11T05:48:55.889452171Z",
     "start_time": "2024-08-11T05:48:55.766352619Z"
    }
   },
   "id": "9ea44f86a60c0420"
  },
  {
   "cell_type": "code",
   "execution_count": 56,
   "outputs": [
    {
     "data": {
      "text/plain": "                                           title  \\\n6                  [心得] integrate超水潤無瑕粉底精華沒讓我失望!   \n12                            [心得] 萊雅氣墊唇筆-酒紅色的微醺   \n17                   [心得] nars裸光奇肌粉餅+惹火唇膏!很滿意!!!   \n30                              [心得] 過年就要紅吱吱唇膏分享   \n39                        [心得] 歐美專櫃質感 essence曼谷盤   \n...                                          ...   \n29052          [心得] too cool for school布丁BB霜使用報告   \n29054  [心得] [Face] 幫你遮光光！心機MAQuillAGE長效立體光粉霜(粉條)   \n29055                           [心得] 超神奇的大創粉撲清潔液   \n29072            [心得] NARS特霧唇膏Mascate●紅唇●confess   \n29076                      [心得] 茵蝶的完美睫淨眼唇卸妝露很好用!   \n\n                                                 content  content_length  \n6      有圖有文有素顏好讀版 <image> 雖然cat大有分享照片了 我還是想來推一下持久度XD ...             100  \n12     是這樣的 在fb上看了小s的唇妝覺得唇醺的非常美 如下 <image> <image> 然後...             262  \n17     靠櫃買了版上評價還不錯的裸光奇肌粉餅 實際用在我臉上分享一下 <image> 很遮毛孔阿沒有...             138  \n30     每次回鄉過年都會特別帶比較紅的唇膏回去 土土色系長輩們都不懂( ) 分享我手邊紅得很美的顏色...             384  \n39     <image> 近期用到最喜歡的開架眼影盤 essence 悠活曼谷經典眼彩盤 <image...             386  \n...                                                  ...             ...  \n29052  前陣子到韓國買了好多底妝品這次先跟大家分享一款 之後還會有其他彩妝品的使用報告喔 好讀圖文網...              56  \n29054  再不寫這篇2011春夏新底妝都要出了 (雖然似乎已經有形象照出來了...) (不過還是可以當...             106  \n29055  網誌好讀版： <image> 這個產品在版上已經燒很久了~也有點小過時了(汗... 可是我上...             270  \n29072  之前跟大家分享了一篇紅唇的文 ([妝容] NARS特霧唇膏Mascate冽豔紅唇 <imag...             297  \n29076  最近發現一個卸妝好物~ 就是茵蝶的完美睫淨眼唇卸妝露 這罐是那種雙層油水分離的卸妝液 我覺得...             282  \n\n[5000 rows x 3 columns]",
      "text/html": "<div>\n<style scoped>\n    .dataframe tbody tr th:only-of-type {\n        vertical-align: middle;\n    }\n\n    .dataframe tbody tr th {\n        vertical-align: top;\n    }\n\n    .dataframe thead th {\n        text-align: right;\n    }\n</style>\n<table border=\"1\" class=\"dataframe\">\n  <thead>\n    <tr style=\"text-align: right;\">\n      <th></th>\n      <th>title</th>\n      <th>content</th>\n      <th>content_length</th>\n    </tr>\n  </thead>\n  <tbody>\n    <tr>\n      <th>6</th>\n      <td>[心得] integrate超水潤無瑕粉底精華沒讓我失望!</td>\n      <td>有圖有文有素顏好讀版 &lt;image&gt; 雖然cat大有分享照片了 我還是想來推一下持久度XD ...</td>\n      <td>100</td>\n    </tr>\n    <tr>\n      <th>12</th>\n      <td>[心得] 萊雅氣墊唇筆-酒紅色的微醺</td>\n      <td>是這樣的 在fb上看了小s的唇妝覺得唇醺的非常美 如下 &lt;image&gt; &lt;image&gt; 然後...</td>\n      <td>262</td>\n    </tr>\n    <tr>\n      <th>17</th>\n      <td>[心得] nars裸光奇肌粉餅+惹火唇膏!很滿意!!!</td>\n      <td>靠櫃買了版上評價還不錯的裸光奇肌粉餅 實際用在我臉上分享一下 &lt;image&gt; 很遮毛孔阿沒有...</td>\n      <td>138</td>\n    </tr>\n    <tr>\n      <th>30</th>\n      <td>[心得] 過年就要紅吱吱唇膏分享</td>\n      <td>每次回鄉過年都會特別帶比較紅的唇膏回去 土土色系長輩們都不懂( ) 分享我手邊紅得很美的顏色...</td>\n      <td>384</td>\n    </tr>\n    <tr>\n      <th>39</th>\n      <td>[心得] 歐美專櫃質感 essence曼谷盤</td>\n      <td>&lt;image&gt; 近期用到最喜歡的開架眼影盤 essence 悠活曼谷經典眼彩盤 &lt;image...</td>\n      <td>386</td>\n    </tr>\n    <tr>\n      <th>...</th>\n      <td>...</td>\n      <td>...</td>\n      <td>...</td>\n    </tr>\n    <tr>\n      <th>29052</th>\n      <td>[心得] too cool for school布丁BB霜使用報告</td>\n      <td>前陣子到韓國買了好多底妝品這次先跟大家分享一款 之後還會有其他彩妝品的使用報告喔 好讀圖文網...</td>\n      <td>56</td>\n    </tr>\n    <tr>\n      <th>29054</th>\n      <td>[心得] [Face] 幫你遮光光！心機MAQuillAGE長效立體光粉霜(粉條)</td>\n      <td>再不寫這篇2011春夏新底妝都要出了 (雖然似乎已經有形象照出來了...) (不過還是可以當...</td>\n      <td>106</td>\n    </tr>\n    <tr>\n      <th>29055</th>\n      <td>[心得] 超神奇的大創粉撲清潔液</td>\n      <td>網誌好讀版： &lt;image&gt; 這個產品在版上已經燒很久了~也有點小過時了(汗... 可是我上...</td>\n      <td>270</td>\n    </tr>\n    <tr>\n      <th>29072</th>\n      <td>[心得] NARS特霧唇膏Mascate●紅唇●confess</td>\n      <td>之前跟大家分享了一篇紅唇的文 ([妝容] NARS特霧唇膏Mascate冽豔紅唇 &lt;imag...</td>\n      <td>297</td>\n    </tr>\n    <tr>\n      <th>29076</th>\n      <td>[心得] 茵蝶的完美睫淨眼唇卸妝露很好用!</td>\n      <td>最近發現一個卸妝好物~ 就是茵蝶的完美睫淨眼唇卸妝露 這罐是那種雙層油水分離的卸妝液 我覺得...</td>\n      <td>282</td>\n    </tr>\n  </tbody>\n</table>\n<p>5000 rows × 3 columns</p>\n</div>"
     },
     "execution_count": 56,
     "metadata": {},
     "output_type": "execute_result"
    }
   ],
   "source": [
    "# Calculate content lengths and add as a new column to the DataFrame\n",
    "post_df['content_length'] = post_df['content'].apply(len)\n",
    "\n",
    "# Select rows where content_length is less than 400\n",
    "filtered_post_df = post_df[post_df['content_length'] < 400]\n",
    "\n",
    "filtered_post_df =filtered_post_df.head(5000)\n",
    "filtered_post_df"
   ],
   "metadata": {
    "collapsed": false,
    "ExecuteTime": {
     "end_time": "2024-08-11T05:49:12.775665210Z",
     "start_time": "2024-08-11T05:49:12.653123604Z"
    }
   },
   "id": "29330dd209f6b631"
  },
  {
   "cell_type": "code",
   "execution_count": 57,
   "outputs": [
    {
     "data": {
      "text/plain": "                                                   input  \\\n6      生成一篇有關MakeUp看板心得貼文\\n\\n標題: integrate超水潤無瑕粉底精華沒讓...   \n12     生成一篇有關MakeUp看板心得貼文\\n\\n標題: 萊雅氣墊唇筆-酒紅色的微醺\\n\\n生成的...   \n17     生成一篇有關MakeUp看板心得貼文\\n\\n標題: nars裸光奇肌粉餅+惹火唇膏!很滿意!...   \n30     生成一篇有關MakeUp看板心得貼文\\n\\n標題: 過年就要紅吱吱唇膏分享\\n\\n生成的貼文...   \n39     生成一篇有關MakeUp看板心得貼文\\n\\n標題: 歐美專櫃質感 essence曼谷盤\\n\\...   \n...                                                  ...   \n29052  生成一篇有關MakeUp看板心得貼文\\n\\n標題: too cool for school布...   \n29054  生成一篇有關MakeUp看板心得貼文\\n\\n標題: [Face] 幫你遮光光！心機MAQui...   \n29055  生成一篇有關MakeUp看板心得貼文\\n\\n標題: 超神奇的大創粉撲清潔液\\n\\n生成的貼文...   \n29072  生成一篇有關MakeUp看板心得貼文\\n\\n標題: NARS特霧唇膏Mascate●紅唇●c...   \n29076  生成一篇有關MakeUp看板心得貼文\\n\\n標題: 茵蝶的完美睫淨眼唇卸妝露很好用!\\n\\n...   \n\n                                                  output  \\\n6      有圖有文有素顏好讀版 <image> 雖然cat大有分享照片了 我還是想來推一下持久度XD ...   \n12     是這樣的 在fb上看了小s的唇妝覺得唇醺的非常美 如下 <image> <image> 然後...   \n17     靠櫃買了版上評價還不錯的裸光奇肌粉餅 實際用在我臉上分享一下 <image> 很遮毛孔阿沒有...   \n30     每次回鄉過年都會特別帶比較紅的唇膏回去 土土色系長輩們都不懂( ) 分享我手邊紅得很美的顏色...   \n39     <image> 近期用到最喜歡的開架眼影盤 essence 悠活曼谷經典眼彩盤 <image...   \n...                                                  ...   \n29052  前陣子到韓國買了好多底妝品這次先跟大家分享一款 之後還會有其他彩妝品的使用報告喔 好讀圖文網...   \n29054  再不寫這篇2011春夏新底妝都要出了 (雖然似乎已經有形象照出來了...) (不過還是可以當...   \n29055  網誌好讀版： <image> 這個產品在版上已經燒很久了~也有點小過時了(汗... 可是我上...   \n29072  之前跟大家分享了一篇紅唇的文 ([妝容] NARS特霧唇膏Mascate冽豔紅唇 <imag...   \n29076  最近發現一個卸妝好物~ 就是茵蝶的完美睫淨眼唇卸妝露 這罐是那種雙層油水分離的卸妝液 我覺得...   \n\n                                             instruction  \n6      你是一個reddit 討論區的使用者, 在看板MakeUp看表心得貼文, 你愛用\"～\" ,\"...  \n12     你是一個reddit 討論區的使用者, 在看板MakeUp看表心得貼文, 你愛用\"～\" ,\"...  \n17     你是一個reddit 討論區的使用者, 在看板MakeUp看表心得貼文, 你愛用\"～\" ,\"...  \n30     你是一個reddit 討論區的使用者, 在看板MakeUp看表心得貼文, 你愛用\"～\" ,\"...  \n39     你是一個reddit 討論區的使用者, 在看板MakeUp看表心得貼文, 你愛用\"～\" ,\"...  \n...                                                  ...  \n29052  你是一個reddit 討論區的使用者, 在看板MakeUp看表心得貼文, 你愛用\"～\" ,\"...  \n29054  你是一個reddit 討論區的使用者, 在看板MakeUp看表心得貼文, 你愛用\"～\" ,\"...  \n29055  你是一個reddit 討論區的使用者, 在看板MakeUp看表心得貼文, 你愛用\"～\" ,\"...  \n29072  你是一個reddit 討論區的使用者, 在看板MakeUp看表心得貼文, 你愛用\"～\" ,\"...  \n29076  你是一個reddit 討論區的使用者, 在看板MakeUp看表心得貼文, 你愛用\"～\" ,\"...  \n\n[5000 rows x 3 columns]",
      "text/html": "<div>\n<style scoped>\n    .dataframe tbody tr th:only-of-type {\n        vertical-align: middle;\n    }\n\n    .dataframe tbody tr th {\n        vertical-align: top;\n    }\n\n    .dataframe thead th {\n        text-align: right;\n    }\n</style>\n<table border=\"1\" class=\"dataframe\">\n  <thead>\n    <tr style=\"text-align: right;\">\n      <th></th>\n      <th>input</th>\n      <th>output</th>\n      <th>instruction</th>\n    </tr>\n  </thead>\n  <tbody>\n    <tr>\n      <th>6</th>\n      <td>生成一篇有關MakeUp看板心得貼文\\n\\n標題: integrate超水潤無瑕粉底精華沒讓...</td>\n      <td>有圖有文有素顏好讀版 &lt;image&gt; 雖然cat大有分享照片了 我還是想來推一下持久度XD ...</td>\n      <td>你是一個reddit 討論區的使用者, 在看板MakeUp看表心得貼文, 你愛用\"～\" ,\"...</td>\n    </tr>\n    <tr>\n      <th>12</th>\n      <td>生成一篇有關MakeUp看板心得貼文\\n\\n標題: 萊雅氣墊唇筆-酒紅色的微醺\\n\\n生成的...</td>\n      <td>是這樣的 在fb上看了小s的唇妝覺得唇醺的非常美 如下 &lt;image&gt; &lt;image&gt; 然後...</td>\n      <td>你是一個reddit 討論區的使用者, 在看板MakeUp看表心得貼文, 你愛用\"～\" ,\"...</td>\n    </tr>\n    <tr>\n      <th>17</th>\n      <td>生成一篇有關MakeUp看板心得貼文\\n\\n標題: nars裸光奇肌粉餅+惹火唇膏!很滿意!...</td>\n      <td>靠櫃買了版上評價還不錯的裸光奇肌粉餅 實際用在我臉上分享一下 &lt;image&gt; 很遮毛孔阿沒有...</td>\n      <td>你是一個reddit 討論區的使用者, 在看板MakeUp看表心得貼文, 你愛用\"～\" ,\"...</td>\n    </tr>\n    <tr>\n      <th>30</th>\n      <td>生成一篇有關MakeUp看板心得貼文\\n\\n標題: 過年就要紅吱吱唇膏分享\\n\\n生成的貼文...</td>\n      <td>每次回鄉過年都會特別帶比較紅的唇膏回去 土土色系長輩們都不懂( ) 分享我手邊紅得很美的顏色...</td>\n      <td>你是一個reddit 討論區的使用者, 在看板MakeUp看表心得貼文, 你愛用\"～\" ,\"...</td>\n    </tr>\n    <tr>\n      <th>39</th>\n      <td>生成一篇有關MakeUp看板心得貼文\\n\\n標題: 歐美專櫃質感 essence曼谷盤\\n\\...</td>\n      <td>&lt;image&gt; 近期用到最喜歡的開架眼影盤 essence 悠活曼谷經典眼彩盤 &lt;image...</td>\n      <td>你是一個reddit 討論區的使用者, 在看板MakeUp看表心得貼文, 你愛用\"～\" ,\"...</td>\n    </tr>\n    <tr>\n      <th>...</th>\n      <td>...</td>\n      <td>...</td>\n      <td>...</td>\n    </tr>\n    <tr>\n      <th>29052</th>\n      <td>生成一篇有關MakeUp看板心得貼文\\n\\n標題: too cool for school布...</td>\n      <td>前陣子到韓國買了好多底妝品這次先跟大家分享一款 之後還會有其他彩妝品的使用報告喔 好讀圖文網...</td>\n      <td>你是一個reddit 討論區的使用者, 在看板MakeUp看表心得貼文, 你愛用\"～\" ,\"...</td>\n    </tr>\n    <tr>\n      <th>29054</th>\n      <td>生成一篇有關MakeUp看板心得貼文\\n\\n標題: [Face] 幫你遮光光！心機MAQui...</td>\n      <td>再不寫這篇2011春夏新底妝都要出了 (雖然似乎已經有形象照出來了...) (不過還是可以當...</td>\n      <td>你是一個reddit 討論區的使用者, 在看板MakeUp看表心得貼文, 你愛用\"～\" ,\"...</td>\n    </tr>\n    <tr>\n      <th>29055</th>\n      <td>生成一篇有關MakeUp看板心得貼文\\n\\n標題: 超神奇的大創粉撲清潔液\\n\\n生成的貼文...</td>\n      <td>網誌好讀版： &lt;image&gt; 這個產品在版上已經燒很久了~也有點小過時了(汗... 可是我上...</td>\n      <td>你是一個reddit 討論區的使用者, 在看板MakeUp看表心得貼文, 你愛用\"～\" ,\"...</td>\n    </tr>\n    <tr>\n      <th>29072</th>\n      <td>生成一篇有關MakeUp看板心得貼文\\n\\n標題: NARS特霧唇膏Mascate●紅唇●c...</td>\n      <td>之前跟大家分享了一篇紅唇的文 ([妝容] NARS特霧唇膏Mascate冽豔紅唇 &lt;imag...</td>\n      <td>你是一個reddit 討論區的使用者, 在看板MakeUp看表心得貼文, 你愛用\"～\" ,\"...</td>\n    </tr>\n    <tr>\n      <th>29076</th>\n      <td>生成一篇有關MakeUp看板心得貼文\\n\\n標題: 茵蝶的完美睫淨眼唇卸妝露很好用!\\n\\n...</td>\n      <td>最近發現一個卸妝好物~ 就是茵蝶的完美睫淨眼唇卸妝露 這罐是那種雙層油水分離的卸妝液 我覺得...</td>\n      <td>你是一個reddit 討論區的使用者, 在看板MakeUp看表心得貼文, 你愛用\"～\" ,\"...</td>\n    </tr>\n  </tbody>\n</table>\n<p>5000 rows × 3 columns</p>\n</div>"
     },
     "execution_count": 57,
     "metadata": {},
     "output_type": "execute_result"
    }
   ],
   "source": [
    "instruction_template = '''你是一個reddit 討論區的使用者, 在看板MakeUp看表心得貼文, 你愛用\"～\" ,\"！！\",\"><\"\"(表達開心),\"啦\",\"XD\"(表達開心)  來當語氣助詞'''\n",
    "\n",
    "input_template = '''生成一篇有關MakeUp看板心得貼文\n",
    "\n",
    "標題: {{title}}\n",
    "\n",
    "生成的貼文長度約: {{content_length}}字\n",
    "\n",
    "說明:\n",
    "輕鬆親切：請用輕鬆親切的語氣來描述產品，像是在和朋友分享心得。\n",
    "指示: \"用一個輕鬆親切的語氣來撰寫心得，就像在和朋友聊天一樣。\"\n",
    "誠懇真實：請強調真實使用感受，避免過度誇張，讓讀者感覺到誠懇。\n",
    "指示: \"用誠懇真實的語氣，真誠地描述產品的優點和缺點。\"\n",
    "幽默風趣：適度加入一些幽默或有趣的比喻，使文章更具吸引力。\n",
    "指示: \"在撰寫時加入一些幽默風趣的元素，讓讀者感覺輕鬆愉快\n",
    "\n",
    "跳過轉折詞彙，直接描述即可。\n",
    "跳過叫使用者行動的字，直接描述即可。\n",
    "\n",
    "1. 產品介紹\n",
    "2. 化妝過程：應用氣墊後的妝前妝後對比，效果評價，妝感呈現。\n",
    "3. 持久度測試：實際使用狀況，遇到汗水、飲食、擦臉等情況後的狀況。\n",
    "4. 總結評價：整體表現評分、等總體印象。\n",
    "5. 建議用途：推薦在何種情況下使用\n",
    "6. 個人心得：作者的真實試用感受，以及對產品的總體滿意度和未來使用打算。'''\n",
    "\n",
    "train_data = filtered_post_df\n",
    "train_data['title'] = train_data['title'].apply(lambda x: x.replace('[心得]',''))\n",
    "train_data['title'] = train_data['title'].apply(lambda x: x.strip())\n",
    "train_data.rename(columns={'content':'output'}, inplace=True)\n",
    "train_data['instruction'] = instruction_template\n",
    "train_data['input'] = input_template\n",
    "train_data['input'] = train_data['title'].apply(lambda title: input_template.replace('{{title}}', title))\n",
    "train_data['input'] = train_data.apply(lambda x: x['input'].replace('{{content_length}}', str(x['content_length'])), axis=1)\n",
    "\n",
    "train_data = train_data[['input', 'output', 'instruction']]\n",
    "train_data"
   ],
   "metadata": {
    "collapsed": false,
    "ExecuteTime": {
     "end_time": "2024-08-11T05:49:12.901105229Z",
     "start_time": "2024-08-11T05:49:12.727078701Z"
    }
   },
   "id": "4eed28381af89fdb"
  },
  {
   "cell_type": "code",
   "execution_count": 58,
   "outputs": [],
   "source": [
    "\n",
    "train_data.to_csv('data/csv/makeup_fine_turn_data.csv', index=False)"
   ],
   "metadata": {
    "collapsed": false,
    "ExecuteTime": {
     "end_time": "2024-08-11T05:49:13.081001506Z",
     "start_time": "2024-08-11T05:49:12.840413539Z"
    }
   },
   "id": "73bda3e32609170f"
  }
 ],
 "metadata": {
  "kernelspec": {
   "display_name": "Python 3",
   "language": "python",
   "name": "python3"
  },
  "language_info": {
   "codemirror_mode": {
    "name": "ipython",
    "version": 2
   },
   "file_extension": ".py",
   "mimetype": "text/x-python",
   "name": "python",
   "nbconvert_exporter": "python",
   "pygments_lexer": "ipython2",
   "version": "2.7.6"
  }
 },
 "nbformat": 4,
 "nbformat_minor": 5
}
