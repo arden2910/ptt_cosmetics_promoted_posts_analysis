{
 "cells": [
  {
   "cell_type": "code",
   "source": [],
   "metadata": {
    "id": "-sxzHMpKykup",
    "ExecuteTime": {
     "end_time": "2024-08-15T09:56:36.965717331Z",
     "start_time": "2024-08-15T09:56:36.647281334Z"
    }
   },
   "id": "-sxzHMpKykup",
   "execution_count": 5,
   "outputs": []
  },
  {
   "cell_type": "code",
   "source": [
    "# 1\n",
    "# # current_working_directory = '/drive/MyDrive/Colab Notebooks/好玩rag_makeup/'  # Replace with your project name\n",
    "# current_working_directory = '/drive/MyDrive/Colab Notebooks/好玩rag_makeup/'  # Replace with your project name\n",
    "# \n",
    "# import os\n",
    "# def check_if_colab_environment():\n",
    "#     try:\n",
    "#         import google.colab\n",
    "#         return True\n",
    "#     except ImportError:\n",
    "#         return False\n",
    "# \n",
    "# \n",
    "# if check_if_colab_environment() is True:\n",
    "#     from google.colab import drive\n",
    "#     drive.mount('/drive')\n",
    "# \n",
    "# \n",
    "# if current_working_directory.endswith('/'):\n",
    "#     current_working_directory = current_working_directory[:-1]\n",
    "# \n",
    "# os.chdir(current_working_directory)\n"
   ],
   "metadata": {
    "colab": {
     "base_uri": "https://localhost:8080/"
    },
    "id": "ikaDGYnmAql7",
    "outputId": "e80ae290-054d-4c89-cafa-08b0115f0092",
    "ExecuteTime": {
     "end_time": "2024-08-15T09:56:37.072777882Z",
     "start_time": "2024-08-15T09:56:36.656321850Z"
    }
   },
   "id": "ikaDGYnmAql7",
   "execution_count": 6,
   "outputs": []
  },
  {
   "cell_type": "code",
   "source": [
    "current_dir = os.getcwd()\n",
    "current_dir"
   ],
   "metadata": {
    "colab": {
     "base_uri": "https://localhost:8080/",
     "height": 36
    },
    "id": "PVyNviWVvx2N",
    "outputId": "2588174e-55e9-45d9-eeab-16999cd3d8e8",
    "ExecuteTime": {
     "end_time": "2024-08-15T09:56:37.101124737Z",
     "start_time": "2024-08-15T09:56:36.714284079Z"
    }
   },
   "id": "PVyNviWVvx2N",
   "execution_count": 7,
   "outputs": [
    {
     "data": {
      "text/plain": "'/home/arden/Documents/好玩rag_makeup'"
     },
     "execution_count": 7,
     "metadata": {},
     "output_type": "execute_result"
    }
   ]
  },
  {
   "cell_type": "code",
   "source": [
    "# environment installation\n",
    "# !pip install chromadb\n",
    "!pip install pysqlite3-binary\n",
    "!pip install sqlite3 >= 3.35.0\n",
    "!pip install langchain langchain_chroma langchain_community langchainhub langchain-openai\n",
    "!pip install jq\n",
    "!pip install -qU langchain-milvus\n",
    "# !pip install langchain-openai\n",
    "# !pip uninstall langchain-openai -y\n",
    "# !pip install langchain-openai"
   ],
   "metadata": {
    "colab": {
     "base_uri": "https://localhost:8080/"
    },
    "id": "b86YcnejBUT-",
    "outputId": "9440c9fc-336d-4f30-b747-57982588f132",
    "ExecuteTime": {
     "end_time": "2024-08-15T09:57:11.418737368Z",
     "start_time": "2024-08-15T09:56:36.714905973Z"
    }
   },
   "id": "b86YcnejBUT-",
   "execution_count": 8,
   "outputs": [
    {
     "name": "stdout",
     "output_type": "stream",
     "text": [
      "Defaulting to user installation because normal site-packages is not writeable\r\n",
      "Looking in indexes: https://pypi.org/simple, https://pypi.ngc.nvidia.com\r\n",
      "Requirement already satisfied: chromadb in /home/arden/.local/lib/python3.10/site-packages (0.5.3)\r\n",
      "Requirement already satisfied: build>=1.0.3 in /home/arden/.local/lib/python3.10/site-packages (from chromadb) (1.2.1)\r\n",
      "Requirement already satisfied: requests>=2.28 in /home/arden/.local/lib/python3.10/site-packages (from chromadb) (2.31.0)\r\n",
      "Requirement already satisfied: pydantic>=1.9 in /home/arden/.local/lib/python3.10/site-packages (from chromadb) (2.7.1)\r\n",
      "Requirement already satisfied: chroma-hnswlib==0.7.3 in /home/arden/.local/lib/python3.10/site-packages (from chromadb) (0.7.3)\r\n",
      "Requirement already satisfied: fastapi>=0.95.2 in /home/arden/.local/lib/python3.10/site-packages (from chromadb) (0.102.0)\r\n",
      "Requirement already satisfied: uvicorn>=0.18.3 in /home/arden/.local/lib/python3.10/site-packages (from uvicorn[standard]>=0.18.3->chromadb) (0.29.0)\r\n",
      "Requirement already satisfied: numpy<2.0.0,>=1.22.5 in /home/arden/.local/lib/python3.10/site-packages (from chromadb) (1.26.4)\r\n",
      "Requirement already satisfied: posthog>=2.4.0 in /home/arden/.local/lib/python3.10/site-packages (from chromadb) (3.5.0)\r\n",
      "Requirement already satisfied: typing-extensions>=4.5.0 in /home/arden/.local/lib/python3.10/site-packages (from chromadb) (4.11.0)\r\n",
      "Requirement already satisfied: onnxruntime>=1.14.1 in /home/arden/.local/lib/python3.10/site-packages (from chromadb) (1.18.1)\r\n",
      "Requirement already satisfied: opentelemetry-api>=1.2.0 in /home/arden/.local/lib/python3.10/site-packages (from chromadb) (1.25.0)\r\n",
      "Requirement already satisfied: opentelemetry-exporter-otlp-proto-grpc>=1.2.0 in /home/arden/.local/lib/python3.10/site-packages (from chromadb) (1.25.0)\r\n",
      "Requirement already satisfied: opentelemetry-instrumentation-fastapi>=0.41b0 in /home/arden/.local/lib/python3.10/site-packages (from chromadb) (0.46b0)\r\n",
      "Requirement already satisfied: opentelemetry-sdk>=1.2.0 in /home/arden/.local/lib/python3.10/site-packages (from chromadb) (1.25.0)\r\n",
      "Requirement already satisfied: tokenizers>=0.13.2 in /home/arden/.local/lib/python3.10/site-packages (from chromadb) (0.19.1)\r\n",
      "Requirement already satisfied: pypika>=0.48.9 in /home/arden/.local/lib/python3.10/site-packages (from chromadb) (0.48.9)\r\n",
      "Requirement already satisfied: tqdm>=4.65.0 in /home/arden/.local/lib/python3.10/site-packages (from chromadb) (4.66.4)\r\n",
      "Requirement already satisfied: overrides>=7.3.1 in /home/arden/.local/lib/python3.10/site-packages (from chromadb) (7.7.0)\r\n",
      "Requirement already satisfied: importlib-resources in /home/arden/.local/lib/python3.10/site-packages (from chromadb) (6.4.0)\r\n",
      "Requirement already satisfied: grpcio>=1.58.0 in /home/arden/.local/lib/python3.10/site-packages (from chromadb) (1.63.0)\r\n",
      "Requirement already satisfied: bcrypt>=4.0.1 in /home/arden/.local/lib/python3.10/site-packages (from chromadb) (4.1.3)\r\n",
      "Requirement already satisfied: typer>=0.9.0 in /home/arden/.local/lib/python3.10/site-packages (from chromadb) (0.12.3)\r\n",
      "Requirement already satisfied: kubernetes>=28.1.0 in /home/arden/.local/lib/python3.10/site-packages (from chromadb) (30.1.0)\r\n",
      "Requirement already satisfied: tenacity>=8.2.3 in /home/arden/.local/lib/python3.10/site-packages (from chromadb) (8.4.2)\r\n",
      "Requirement already satisfied: PyYAML>=6.0.0 in /home/arden/.local/lib/python3.10/site-packages (from chromadb) (6.0.1)\r\n",
      "Requirement already satisfied: mmh3>=4.0.1 in /home/arden/.local/lib/python3.10/site-packages (from chromadb) (4.1.0)\r\n",
      "Requirement already satisfied: orjson>=3.9.12 in /home/arden/.local/lib/python3.10/site-packages (from chromadb) (3.10.6)\r\n",
      "Requirement already satisfied: httpx>=0.27.0 in /home/arden/.local/lib/python3.10/site-packages (from chromadb) (0.27.0)\r\n",
      "Requirement already satisfied: packaging>=19.1 in /home/arden/.local/lib/python3.10/site-packages (from build>=1.0.3->chromadb) (24.1)\r\n",
      "Requirement already satisfied: pyproject_hooks in /home/arden/.local/lib/python3.10/site-packages (from build>=1.0.3->chromadb) (1.1.0)\r\n",
      "Requirement already satisfied: tomli>=1.1.0 in /home/arden/.local/lib/python3.10/site-packages (from build>=1.0.3->chromadb) (2.0.1)\r\n",
      "Requirement already satisfied: starlette<0.28.0,>=0.27.0 in /home/arden/.local/lib/python3.10/site-packages (from fastapi>=0.95.2->chromadb) (0.27.0)\r\n",
      "Requirement already satisfied: anyio in /home/arden/.local/lib/python3.10/site-packages (from httpx>=0.27.0->chromadb) (4.3.0)\r\n",
      "Requirement already satisfied: certifi in /usr/lib/python3/dist-packages (from httpx>=0.27.0->chromadb) (2019.11.28)\r\n",
      "Requirement already satisfied: httpcore==1.* in /home/arden/.local/lib/python3.10/site-packages (from httpx>=0.27.0->chromadb) (1.0.5)\r\n",
      "Requirement already satisfied: idna in /usr/lib/python3/dist-packages (from httpx>=0.27.0->chromadb) (2.8)\r\n",
      "Requirement already satisfied: sniffio in /home/arden/.local/lib/python3.10/site-packages (from httpx>=0.27.0->chromadb) (1.3.1)\r\n",
      "Requirement already satisfied: h11<0.15,>=0.13 in /home/arden/.local/lib/python3.10/site-packages (from httpcore==1.*->httpx>=0.27.0->chromadb) (0.14.0)\r\n",
      "Requirement already satisfied: six>=1.9.0 in /usr/lib/python3/dist-packages (from kubernetes>=28.1.0->chromadb) (1.14.0)\r\n",
      "Requirement already satisfied: python-dateutil>=2.5.3 in /home/arden/.local/lib/python3.10/site-packages (from kubernetes>=28.1.0->chromadb) (2.9.0.post0)\r\n",
      "Requirement already satisfied: google-auth>=1.0.1 in /home/arden/.local/lib/python3.10/site-packages (from kubernetes>=28.1.0->chromadb) (2.31.0)\r\n",
      "Requirement already satisfied: websocket-client!=0.40.0,!=0.41.*,!=0.42.*,>=0.32.0 in /home/arden/.local/lib/python3.10/site-packages (from kubernetes>=28.1.0->chromadb) (1.8.0)\r\n",
      "Requirement already satisfied: requests-oauthlib in /home/arden/.local/lib/python3.10/site-packages (from kubernetes>=28.1.0->chromadb) (2.0.0)\r\n",
      "Requirement already satisfied: oauthlib>=3.2.2 in /home/arden/.local/lib/python3.10/site-packages (from kubernetes>=28.1.0->chromadb) (3.2.2)\r\n",
      "Requirement already satisfied: urllib3>=1.24.2 in /home/arden/.local/lib/python3.10/site-packages (from kubernetes>=28.1.0->chromadb) (2.2.2)\r\n",
      "Requirement already satisfied: coloredlogs in /home/arden/.local/lib/python3.10/site-packages (from onnxruntime>=1.14.1->chromadb) (15.0.1)\r\n",
      "Requirement already satisfied: flatbuffers in /home/arden/.local/lib/python3.10/site-packages (from onnxruntime>=1.14.1->chromadb) (24.3.25)\r\n",
      "Requirement already satisfied: protobuf in /home/arden/.local/lib/python3.10/site-packages (from onnxruntime>=1.14.1->chromadb) (4.25.3)\r\n",
      "Requirement already satisfied: sympy in /home/arden/.local/lib/python3.10/site-packages (from onnxruntime>=1.14.1->chromadb) (1.12.1)\r\n",
      "Requirement already satisfied: deprecated>=1.2.6 in /home/arden/.local/lib/python3.10/site-packages (from opentelemetry-api>=1.2.0->chromadb) (1.2.14)\r\n",
      "Requirement already satisfied: importlib-metadata<=7.1,>=6.0 in /home/arden/.local/lib/python3.10/site-packages (from opentelemetry-api>=1.2.0->chromadb) (7.1.0)\r\n",
      "Requirement already satisfied: googleapis-common-protos~=1.52 in /home/arden/.local/lib/python3.10/site-packages (from opentelemetry-exporter-otlp-proto-grpc>=1.2.0->chromadb) (1.63.2)\r\n",
      "Requirement already satisfied: opentelemetry-exporter-otlp-proto-common==1.25.0 in /home/arden/.local/lib/python3.10/site-packages (from opentelemetry-exporter-otlp-proto-grpc>=1.2.0->chromadb) (1.25.0)\r\n",
      "Requirement already satisfied: opentelemetry-proto==1.25.0 in /home/arden/.local/lib/python3.10/site-packages (from opentelemetry-exporter-otlp-proto-grpc>=1.2.0->chromadb) (1.25.0)\r\n",
      "Requirement already satisfied: opentelemetry-instrumentation-asgi==0.46b0 in /home/arden/.local/lib/python3.10/site-packages (from opentelemetry-instrumentation-fastapi>=0.41b0->chromadb) (0.46b0)\r\n",
      "Requirement already satisfied: opentelemetry-instrumentation==0.46b0 in /home/arden/.local/lib/python3.10/site-packages (from opentelemetry-instrumentation-fastapi>=0.41b0->chromadb) (0.46b0)\r\n",
      "Requirement already satisfied: opentelemetry-semantic-conventions==0.46b0 in /home/arden/.local/lib/python3.10/site-packages (from opentelemetry-instrumentation-fastapi>=0.41b0->chromadb) (0.46b0)\r\n",
      "Requirement already satisfied: opentelemetry-util-http==0.46b0 in /home/arden/.local/lib/python3.10/site-packages (from opentelemetry-instrumentation-fastapi>=0.41b0->chromadb) (0.46b0)\r\n",
      "Requirement already satisfied: setuptools>=16.0 in /home/arden/.local/lib/python3.10/site-packages (from opentelemetry-instrumentation==0.46b0->opentelemetry-instrumentation-fastapi>=0.41b0->chromadb) (72.2.0)\r\n",
      "Requirement already satisfied: wrapt<2.0.0,>=1.0.0 in /home/arden/.local/lib/python3.10/site-packages (from opentelemetry-instrumentation==0.46b0->opentelemetry-instrumentation-fastapi>=0.41b0->chromadb) (1.16.0)\r\n",
      "Requirement already satisfied: asgiref~=3.0 in /home/arden/.local/lib/python3.10/site-packages (from opentelemetry-instrumentation-asgi==0.46b0->opentelemetry-instrumentation-fastapi>=0.41b0->chromadb) (3.8.1)\r\n",
      "Requirement already satisfied: monotonic>=1.5 in /usr/lib/python3/dist-packages (from posthog>=2.4.0->chromadb) (1.5)\r\n",
      "Requirement already satisfied: backoff>=1.10.0 in /home/arden/.local/lib/python3.10/site-packages (from posthog>=2.4.0->chromadb) (2.2.1)\r\n",
      "Requirement already satisfied: annotated-types>=0.4.0 in /home/arden/.local/lib/python3.10/site-packages (from pydantic>=1.9->chromadb) (0.7.0)\r\n",
      "Requirement already satisfied: pydantic-core==2.18.2 in /home/arden/.local/lib/python3.10/site-packages (from pydantic>=1.9->chromadb) (2.18.2)\r\n",
      "Requirement already satisfied: charset-normalizer<4,>=2 in /home/arden/.local/lib/python3.10/site-packages (from requests>=2.28->chromadb) (3.3.2)\r\n",
      "Requirement already satisfied: huggingface-hub<1.0,>=0.16.4 in /home/arden/.local/lib/python3.10/site-packages (from tokenizers>=0.13.2->chromadb) (0.23.4)\r\n",
      "Requirement already satisfied: click>=8.0.0 in /home/arden/.local/lib/python3.10/site-packages (from typer>=0.9.0->chromadb) (8.1.7)\r\n",
      "Requirement already satisfied: shellingham>=1.3.0 in /home/arden/.local/lib/python3.10/site-packages (from typer>=0.9.0->chromadb) (1.5.4)\r\n",
      "Requirement already satisfied: rich>=10.11.0 in /home/arden/.local/lib/python3.10/site-packages (from typer>=0.9.0->chromadb) (13.7.1)\r\n",
      "Requirement already satisfied: httptools>=0.5.0 in /home/arden/.local/lib/python3.10/site-packages (from uvicorn[standard]>=0.18.3->chromadb) (0.6.1)\r\n",
      "Requirement already satisfied: python-dotenv>=0.13 in /home/arden/.local/lib/python3.10/site-packages (from uvicorn[standard]>=0.18.3->chromadb) (1.0.0)\r\n",
      "Requirement already satisfied: uvloop!=0.15.0,!=0.15.1,>=0.14.0 in /home/arden/.local/lib/python3.10/site-packages (from uvicorn[standard]>=0.18.3->chromadb) (0.19.0)\r\n",
      "Requirement already satisfied: watchfiles>=0.13 in /home/arden/.local/lib/python3.10/site-packages (from uvicorn[standard]>=0.18.3->chromadb) (0.21.0)\r\n",
      "Requirement already satisfied: websockets>=10.4 in /home/arden/.local/lib/python3.10/site-packages (from uvicorn[standard]>=0.18.3->chromadb) (12.0)\r\n",
      "Requirement already satisfied: cachetools<6.0,>=2.0.0 in /home/arden/.local/lib/python3.10/site-packages (from google-auth>=1.0.1->kubernetes>=28.1.0->chromadb) (5.3.3)\r\n",
      "Requirement already satisfied: pyasn1-modules>=0.2.1 in /home/arden/.local/lib/python3.10/site-packages (from google-auth>=1.0.1->kubernetes>=28.1.0->chromadb) (0.4.0)\r\n",
      "Requirement already satisfied: rsa<5,>=3.1.4 in /home/arden/.local/lib/python3.10/site-packages (from google-auth>=1.0.1->kubernetes>=28.1.0->chromadb) (4.9)\r\n",
      "Requirement already satisfied: filelock in /home/arden/.local/lib/python3.10/site-packages (from huggingface-hub<1.0,>=0.16.4->tokenizers>=0.13.2->chromadb) (3.14.0)\r\n",
      "Requirement already satisfied: fsspec>=2023.5.0 in /home/arden/.local/lib/python3.10/site-packages (from huggingface-hub<1.0,>=0.16.4->tokenizers>=0.13.2->chromadb) (2024.6.1)\r\n",
      "Requirement already satisfied: zipp>=0.5 in /home/arden/.local/lib/python3.10/site-packages (from importlib-metadata<=7.1,>=6.0->opentelemetry-api>=1.2.0->chromadb) (3.19.2)\r\n",
      "Requirement already satisfied: markdown-it-py>=2.2.0 in /home/arden/.local/lib/python3.10/site-packages (from rich>=10.11.0->typer>=0.9.0->chromadb) (3.0.0)\r\n",
      "Requirement already satisfied: pygments<3.0.0,>=2.13.0 in /home/arden/.local/lib/python3.10/site-packages (from rich>=10.11.0->typer>=0.9.0->chromadb) (2.18.0)\r\n",
      "Requirement already satisfied: exceptiongroup>=1.0.2 in /home/arden/.local/lib/python3.10/site-packages (from anyio->httpx>=0.27.0->chromadb) (1.2.1)\r\n",
      "Requirement already satisfied: humanfriendly>=9.1 in /home/arden/.local/lib/python3.10/site-packages (from coloredlogs->onnxruntime>=1.14.1->chromadb) (10.0)\r\n",
      "Requirement already satisfied: mpmath<1.4.0,>=1.1.0 in /home/arden/.local/lib/python3.10/site-packages (from sympy->onnxruntime>=1.14.1->chromadb) (1.3.0)\r\n",
      "Requirement already satisfied: mdurl~=0.1 in /home/arden/.local/lib/python3.10/site-packages (from markdown-it-py>=2.2.0->rich>=10.11.0->typer>=0.9.0->chromadb) (0.1.2)\r\n",
      "Requirement already satisfied: pyasn1<0.7.0,>=0.4.6 in /home/arden/.local/lib/python3.10/site-packages (from pyasn1-modules>=0.2.1->google-auth>=1.0.1->kubernetes>=28.1.0->chromadb) (0.6.0)\r\n",
      "\u001B[33mDEPRECATION: distro-info 0.23ubuntu1 has a non-standard version number. pip 24.1 will enforce this behaviour change. A possible replacement is to upgrade to a newer version of distro-info or contact the author to suggest that they release a version with a conforming version number. Discussion can be found at https://github.com/pypa/pip/issues/12063\u001B[0m\u001B[33m\r\n",
      "\u001B[0m\u001B[33mDEPRECATION: python-debian 0.1.36ubuntu1 has a non-standard version number. pip 24.1 will enforce this behaviour change. A possible replacement is to upgrade to a newer version of python-debian or contact the author to suggest that they release a version with a conforming version number. Discussion can be found at https://github.com/pypa/pip/issues/12063\u001B[0m\u001B[33m\r\n",
      "\u001B[0m\r\n",
      "\u001B[1m[\u001B[0m\u001B[34;49mnotice\u001B[0m\u001B[1;39;49m]\u001B[0m\u001B[39;49m A new release of pip is available: \u001B[0m\u001B[31;49m24.0\u001B[0m\u001B[39;49m -> \u001B[0m\u001B[32;49m24.2\u001B[0m\r\n",
      "\u001B[1m[\u001B[0m\u001B[34;49mnotice\u001B[0m\u001B[1;39;49m]\u001B[0m\u001B[39;49m To update, run: \u001B[0m\u001B[32;49mpython3.10 -m pip install --upgrade pip\u001B[0m\r\n",
      "Defaulting to user installation because normal site-packages is not writeable\r\n",
      "Looking in indexes: https://pypi.org/simple, https://pypi.ngc.nvidia.com\r\n",
      "Requirement already satisfied: pysqlite3-binary in /home/arden/.local/lib/python3.10/site-packages (0.5.3)\r\n",
      "\u001B[33mDEPRECATION: distro-info 0.23ubuntu1 has a non-standard version number. pip 24.1 will enforce this behaviour change. A possible replacement is to upgrade to a newer version of distro-info or contact the author to suggest that they release a version with a conforming version number. Discussion can be found at https://github.com/pypa/pip/issues/12063\u001B[0m\u001B[33m\r\n",
      "\u001B[0m\u001B[33mDEPRECATION: python-debian 0.1.36ubuntu1 has a non-standard version number. pip 24.1 will enforce this behaviour change. A possible replacement is to upgrade to a newer version of python-debian or contact the author to suggest that they release a version with a conforming version number. Discussion can be found at https://github.com/pypa/pip/issues/12063\u001B[0m\u001B[33m\r\n",
      "\u001B[0m\r\n",
      "\u001B[1m[\u001B[0m\u001B[34;49mnotice\u001B[0m\u001B[1;39;49m]\u001B[0m\u001B[39;49m A new release of pip is available: \u001B[0m\u001B[31;49m24.0\u001B[0m\u001B[39;49m -> \u001B[0m\u001B[32;49m24.2\u001B[0m\r\n",
      "\u001B[1m[\u001B[0m\u001B[34;49mnotice\u001B[0m\u001B[1;39;49m]\u001B[0m\u001B[39;49m To update, run: \u001B[0m\u001B[32;49mpython3.10 -m pip install --upgrade pip\u001B[0m\r\n",
      "\u001B[31mERROR: Could not find a version that satisfies the requirement sqlite3 (from versions: none)\u001B[0m\u001B[31m\r\n",
      "\u001B[0m\u001B[31mERROR: No matching distribution found for sqlite3\u001B[0m\u001B[31m\r\n",
      "\u001B[0m\r\n",
      "\u001B[1m[\u001B[0m\u001B[34;49mnotice\u001B[0m\u001B[1;39;49m]\u001B[0m\u001B[39;49m A new release of pip is available: \u001B[0m\u001B[31;49m24.0\u001B[0m\u001B[39;49m -> \u001B[0m\u001B[32;49m24.2\u001B[0m\r\n",
      "\u001B[1m[\u001B[0m\u001B[34;49mnotice\u001B[0m\u001B[1;39;49m]\u001B[0m\u001B[39;49m To update, run: \u001B[0m\u001B[32;49mpython3.10 -m pip install --upgrade pip\u001B[0m\r\n",
      "Defaulting to user installation because normal site-packages is not writeable\r\n",
      "Looking in indexes: https://pypi.org/simple, https://pypi.ngc.nvidia.com\r\n",
      "Requirement already satisfied: langchain in /home/arden/.local/lib/python3.10/site-packages (0.2.6)\r\n",
      "Requirement already satisfied: langchain_chroma in /home/arden/.local/lib/python3.10/site-packages (0.1.2)\r\n",
      "Requirement already satisfied: langchain_community in /home/arden/.local/lib/python3.10/site-packages (0.2.6)\r\n",
      "Requirement already satisfied: langchainhub in /home/arden/.local/lib/python3.10/site-packages (0.1.21)\r\n",
      "Requirement already satisfied: langchain-openai in /home/arden/.local/lib/python3.10/site-packages (0.1.21)\r\n",
      "Requirement already satisfied: PyYAML>=5.3 in /home/arden/.local/lib/python3.10/site-packages (from langchain) (6.0.1)\r\n",
      "Requirement already satisfied: SQLAlchemy<3,>=1.4 in /home/arden/.local/lib/python3.10/site-packages (from langchain) (2.0.31)\r\n",
      "Requirement already satisfied: aiohttp<4.0.0,>=3.8.3 in /home/arden/.local/lib/python3.10/site-packages (from langchain) (3.9.5)\r\n",
      "Requirement already satisfied: async-timeout<5.0.0,>=4.0.0 in /home/arden/.local/lib/python3.10/site-packages (from langchain) (4.0.3)\r\n",
      "Requirement already satisfied: langchain-core<0.3.0,>=0.2.10 in /home/arden/.local/lib/python3.10/site-packages (from langchain) (0.2.32)\r\n",
      "Requirement already satisfied: langchain-text-splitters<0.3.0,>=0.2.0 in /home/arden/.local/lib/python3.10/site-packages (from langchain) (0.2.2)\r\n",
      "Requirement already satisfied: langsmith<0.2.0,>=0.1.17 in /home/arden/.local/lib/python3.10/site-packages (from langchain) (0.1.83)\r\n",
      "Requirement already satisfied: numpy<2,>=1 in /home/arden/.local/lib/python3.10/site-packages (from langchain) (1.26.4)\r\n",
      "Requirement already satisfied: pydantic<3,>=1 in /home/arden/.local/lib/python3.10/site-packages (from langchain) (2.7.1)\r\n",
      "Requirement already satisfied: requests<3,>=2 in /home/arden/.local/lib/python3.10/site-packages (from langchain) (2.31.0)\r\n",
      "Requirement already satisfied: tenacity!=8.4.0,<9.0.0,>=8.1.0 in /home/arden/.local/lib/python3.10/site-packages (from langchain) (8.4.2)\r\n",
      "Requirement already satisfied: chromadb<0.6.0,>=0.4.0 in /home/arden/.local/lib/python3.10/site-packages (from langchain_chroma) (0.5.3)\r\n",
      "Requirement already satisfied: fastapi<1,>=0.95.2 in /home/arden/.local/lib/python3.10/site-packages (from langchain_chroma) (0.102.0)\r\n",
      "Requirement already satisfied: dataclasses-json<0.7,>=0.5.7 in /home/arden/.local/lib/python3.10/site-packages (from langchain_community) (0.6.7)\r\n",
      "Requirement already satisfied: packaging<25,>=23.2 in /home/arden/.local/lib/python3.10/site-packages (from langchainhub) (24.1)\r\n",
      "Requirement already satisfied: types-requests<3.0.0.0,>=2.31.0.2 in /home/arden/.local/lib/python3.10/site-packages (from langchainhub) (2.32.0.20240712)\r\n",
      "Requirement already satisfied: openai<2.0.0,>=1.40.0 in /home/arden/.local/lib/python3.10/site-packages (from langchain-openai) (1.40.6)\r\n",
      "Requirement already satisfied: tiktoken<1,>=0.7 in /home/arden/.local/lib/python3.10/site-packages (from langchain-openai) (0.7.0)\r\n",
      "Requirement already satisfied: aiosignal>=1.1.2 in /home/arden/.local/lib/python3.10/site-packages (from aiohttp<4.0.0,>=3.8.3->langchain) (1.3.1)\r\n",
      "Requirement already satisfied: attrs>=17.3.0 in /home/arden/.local/lib/python3.10/site-packages (from aiohttp<4.0.0,>=3.8.3->langchain) (23.2.0)\r\n",
      "Requirement already satisfied: frozenlist>=1.1.1 in /home/arden/.local/lib/python3.10/site-packages (from aiohttp<4.0.0,>=3.8.3->langchain) (1.4.1)\r\n",
      "Requirement already satisfied: multidict<7.0,>=4.5 in /home/arden/.local/lib/python3.10/site-packages (from aiohttp<4.0.0,>=3.8.3->langchain) (6.0.5)\r\n",
      "Requirement already satisfied: yarl<2.0,>=1.0 in /home/arden/.local/lib/python3.10/site-packages (from aiohttp<4.0.0,>=3.8.3->langchain) (1.9.4)\r\n",
      "Requirement already satisfied: build>=1.0.3 in /home/arden/.local/lib/python3.10/site-packages (from chromadb<0.6.0,>=0.4.0->langchain_chroma) (1.2.1)\r\n",
      "Requirement already satisfied: chroma-hnswlib==0.7.3 in /home/arden/.local/lib/python3.10/site-packages (from chromadb<0.6.0,>=0.4.0->langchain_chroma) (0.7.3)\r\n",
      "Requirement already satisfied: uvicorn>=0.18.3 in /home/arden/.local/lib/python3.10/site-packages (from uvicorn[standard]>=0.18.3->chromadb<0.6.0,>=0.4.0->langchain_chroma) (0.29.0)\r\n",
      "Requirement already satisfied: posthog>=2.4.0 in /home/arden/.local/lib/python3.10/site-packages (from chromadb<0.6.0,>=0.4.0->langchain_chroma) (3.5.0)\r\n",
      "Requirement already satisfied: typing-extensions>=4.5.0 in /home/arden/.local/lib/python3.10/site-packages (from chromadb<0.6.0,>=0.4.0->langchain_chroma) (4.11.0)\r\n",
      "Requirement already satisfied: onnxruntime>=1.14.1 in /home/arden/.local/lib/python3.10/site-packages (from chromadb<0.6.0,>=0.4.0->langchain_chroma) (1.18.1)\r\n",
      "Requirement already satisfied: opentelemetry-api>=1.2.0 in /home/arden/.local/lib/python3.10/site-packages (from chromadb<0.6.0,>=0.4.0->langchain_chroma) (1.25.0)\r\n",
      "Requirement already satisfied: opentelemetry-exporter-otlp-proto-grpc>=1.2.0 in /home/arden/.local/lib/python3.10/site-packages (from chromadb<0.6.0,>=0.4.0->langchain_chroma) (1.25.0)\r\n",
      "Requirement already satisfied: opentelemetry-instrumentation-fastapi>=0.41b0 in /home/arden/.local/lib/python3.10/site-packages (from chromadb<0.6.0,>=0.4.0->langchain_chroma) (0.46b0)\r\n",
      "Requirement already satisfied: opentelemetry-sdk>=1.2.0 in /home/arden/.local/lib/python3.10/site-packages (from chromadb<0.6.0,>=0.4.0->langchain_chroma) (1.25.0)\r\n",
      "Requirement already satisfied: tokenizers>=0.13.2 in /home/arden/.local/lib/python3.10/site-packages (from chromadb<0.6.0,>=0.4.0->langchain_chroma) (0.19.1)\r\n",
      "Requirement already satisfied: pypika>=0.48.9 in /home/arden/.local/lib/python3.10/site-packages (from chromadb<0.6.0,>=0.4.0->langchain_chroma) (0.48.9)\r\n",
      "Requirement already satisfied: tqdm>=4.65.0 in /home/arden/.local/lib/python3.10/site-packages (from chromadb<0.6.0,>=0.4.0->langchain_chroma) (4.66.4)\r\n",
      "Requirement already satisfied: overrides>=7.3.1 in /home/arden/.local/lib/python3.10/site-packages (from chromadb<0.6.0,>=0.4.0->langchain_chroma) (7.7.0)\r\n",
      "Requirement already satisfied: importlib-resources in /home/arden/.local/lib/python3.10/site-packages (from chromadb<0.6.0,>=0.4.0->langchain_chroma) (6.4.0)\r\n",
      "Requirement already satisfied: grpcio>=1.58.0 in /home/arden/.local/lib/python3.10/site-packages (from chromadb<0.6.0,>=0.4.0->langchain_chroma) (1.63.0)\r\n",
      "Requirement already satisfied: bcrypt>=4.0.1 in /home/arden/.local/lib/python3.10/site-packages (from chromadb<0.6.0,>=0.4.0->langchain_chroma) (4.1.3)\r\n",
      "Requirement already satisfied: typer>=0.9.0 in /home/arden/.local/lib/python3.10/site-packages (from chromadb<0.6.0,>=0.4.0->langchain_chroma) (0.12.3)\r\n",
      "Requirement already satisfied: kubernetes>=28.1.0 in /home/arden/.local/lib/python3.10/site-packages (from chromadb<0.6.0,>=0.4.0->langchain_chroma) (30.1.0)\r\n",
      "Requirement already satisfied: mmh3>=4.0.1 in /home/arden/.local/lib/python3.10/site-packages (from chromadb<0.6.0,>=0.4.0->langchain_chroma) (4.1.0)\r\n",
      "Requirement already satisfied: orjson>=3.9.12 in /home/arden/.local/lib/python3.10/site-packages (from chromadb<0.6.0,>=0.4.0->langchain_chroma) (3.10.6)\r\n",
      "Requirement already satisfied: httpx>=0.27.0 in /home/arden/.local/lib/python3.10/site-packages (from chromadb<0.6.0,>=0.4.0->langchain_chroma) (0.27.0)\r\n",
      "Requirement already satisfied: marshmallow<4.0.0,>=3.18.0 in /home/arden/.local/lib/python3.10/site-packages (from dataclasses-json<0.7,>=0.5.7->langchain_community) (3.21.3)\r\n",
      "Requirement already satisfied: typing-inspect<1,>=0.4.0 in /home/arden/.local/lib/python3.10/site-packages (from dataclasses-json<0.7,>=0.5.7->langchain_community) (0.9.0)\r\n",
      "Requirement already satisfied: starlette<0.28.0,>=0.27.0 in /home/arden/.local/lib/python3.10/site-packages (from fastapi<1,>=0.95.2->langchain_chroma) (0.27.0)\r\n",
      "Requirement already satisfied: jsonpatch<2.0,>=1.33 in /home/arden/.local/lib/python3.10/site-packages (from langchain-core<0.3.0,>=0.2.10->langchain) (1.33)\r\n",
      "Requirement already satisfied: anyio<5,>=3.5.0 in /home/arden/.local/lib/python3.10/site-packages (from openai<2.0.0,>=1.40.0->langchain-openai) (4.3.0)\r\n",
      "Requirement already satisfied: distro<2,>=1.7.0 in /home/arden/.local/lib/python3.10/site-packages (from openai<2.0.0,>=1.40.0->langchain-openai) (1.9.0)\r\n",
      "Requirement already satisfied: jiter<1,>=0.4.0 in /home/arden/.local/lib/python3.10/site-packages (from openai<2.0.0,>=1.40.0->langchain-openai) (0.5.0)\r\n",
      "Requirement already satisfied: sniffio in /home/arden/.local/lib/python3.10/site-packages (from openai<2.0.0,>=1.40.0->langchain-openai) (1.3.1)\r\n",
      "Requirement already satisfied: annotated-types>=0.4.0 in /home/arden/.local/lib/python3.10/site-packages (from pydantic<3,>=1->langchain) (0.7.0)\r\n",
      "Requirement already satisfied: pydantic-core==2.18.2 in /home/arden/.local/lib/python3.10/site-packages (from pydantic<3,>=1->langchain) (2.18.2)\r\n",
      "Requirement already satisfied: charset-normalizer<4,>=2 in /home/arden/.local/lib/python3.10/site-packages (from requests<3,>=2->langchain) (3.3.2)\r\n",
      "Requirement already satisfied: idna<4,>=2.5 in /usr/lib/python3/dist-packages (from requests<3,>=2->langchain) (2.8)\r\n",
      "Requirement already satisfied: urllib3<3,>=1.21.1 in /home/arden/.local/lib/python3.10/site-packages (from requests<3,>=2->langchain) (2.2.2)\r\n",
      "Requirement already satisfied: certifi>=2017.4.17 in /usr/lib/python3/dist-packages (from requests<3,>=2->langchain) (2019.11.28)\r\n",
      "Requirement already satisfied: greenlet!=0.4.17 in /home/arden/.local/lib/python3.10/site-packages (from SQLAlchemy<3,>=1.4->langchain) (3.0.3)\r\n",
      "Requirement already satisfied: regex>=2022.1.18 in /home/arden/.local/lib/python3.10/site-packages (from tiktoken<1,>=0.7->langchain-openai) (2024.5.15)\r\n",
      "Requirement already satisfied: exceptiongroup>=1.0.2 in /home/arden/.local/lib/python3.10/site-packages (from anyio<5,>=3.5.0->openai<2.0.0,>=1.40.0->langchain-openai) (1.2.1)\r\n",
      "Requirement already satisfied: pyproject_hooks in /home/arden/.local/lib/python3.10/site-packages (from build>=1.0.3->chromadb<0.6.0,>=0.4.0->langchain_chroma) (1.1.0)\r\n",
      "Requirement already satisfied: tomli>=1.1.0 in /home/arden/.local/lib/python3.10/site-packages (from build>=1.0.3->chromadb<0.6.0,>=0.4.0->langchain_chroma) (2.0.1)\r\n",
      "Requirement already satisfied: httpcore==1.* in /home/arden/.local/lib/python3.10/site-packages (from httpx>=0.27.0->chromadb<0.6.0,>=0.4.0->langchain_chroma) (1.0.5)\r\n",
      "Requirement already satisfied: h11<0.15,>=0.13 in /home/arden/.local/lib/python3.10/site-packages (from httpcore==1.*->httpx>=0.27.0->chromadb<0.6.0,>=0.4.0->langchain_chroma) (0.14.0)\r\n",
      "Requirement already satisfied: jsonpointer>=1.9 in /home/arden/.local/lib/python3.10/site-packages (from jsonpatch<2.0,>=1.33->langchain-core<0.3.0,>=0.2.10->langchain) (3.0.0)\r\n",
      "Requirement already satisfied: six>=1.9.0 in /usr/lib/python3/dist-packages (from kubernetes>=28.1.0->chromadb<0.6.0,>=0.4.0->langchain_chroma) (1.14.0)\r\n",
      "Requirement already satisfied: python-dateutil>=2.5.3 in /home/arden/.local/lib/python3.10/site-packages (from kubernetes>=28.1.0->chromadb<0.6.0,>=0.4.0->langchain_chroma) (2.9.0.post0)\r\n",
      "Requirement already satisfied: google-auth>=1.0.1 in /home/arden/.local/lib/python3.10/site-packages (from kubernetes>=28.1.0->chromadb<0.6.0,>=0.4.0->langchain_chroma) (2.31.0)\r\n",
      "Requirement already satisfied: websocket-client!=0.40.0,!=0.41.*,!=0.42.*,>=0.32.0 in /home/arden/.local/lib/python3.10/site-packages (from kubernetes>=28.1.0->chromadb<0.6.0,>=0.4.0->langchain_chroma) (1.8.0)\r\n",
      "Requirement already satisfied: requests-oauthlib in /home/arden/.local/lib/python3.10/site-packages (from kubernetes>=28.1.0->chromadb<0.6.0,>=0.4.0->langchain_chroma) (2.0.0)\r\n",
      "Requirement already satisfied: oauthlib>=3.2.2 in /home/arden/.local/lib/python3.10/site-packages (from kubernetes>=28.1.0->chromadb<0.6.0,>=0.4.0->langchain_chroma) (3.2.2)\r\n",
      "Requirement already satisfied: coloredlogs in /home/arden/.local/lib/python3.10/site-packages (from onnxruntime>=1.14.1->chromadb<0.6.0,>=0.4.0->langchain_chroma) (15.0.1)\r\n",
      "Requirement already satisfied: flatbuffers in /home/arden/.local/lib/python3.10/site-packages (from onnxruntime>=1.14.1->chromadb<0.6.0,>=0.4.0->langchain_chroma) (24.3.25)\r\n",
      "Requirement already satisfied: protobuf in /home/arden/.local/lib/python3.10/site-packages (from onnxruntime>=1.14.1->chromadb<0.6.0,>=0.4.0->langchain_chroma) (4.25.3)\r\n",
      "Requirement already satisfied: sympy in /home/arden/.local/lib/python3.10/site-packages (from onnxruntime>=1.14.1->chromadb<0.6.0,>=0.4.0->langchain_chroma) (1.12.1)\r\n",
      "Requirement already satisfied: deprecated>=1.2.6 in /home/arden/.local/lib/python3.10/site-packages (from opentelemetry-api>=1.2.0->chromadb<0.6.0,>=0.4.0->langchain_chroma) (1.2.14)\r\n",
      "Requirement already satisfied: importlib-metadata<=7.1,>=6.0 in /home/arden/.local/lib/python3.10/site-packages (from opentelemetry-api>=1.2.0->chromadb<0.6.0,>=0.4.0->langchain_chroma) (7.1.0)\r\n",
      "Requirement already satisfied: googleapis-common-protos~=1.52 in /home/arden/.local/lib/python3.10/site-packages (from opentelemetry-exporter-otlp-proto-grpc>=1.2.0->chromadb<0.6.0,>=0.4.0->langchain_chroma) (1.63.2)\r\n",
      "Requirement already satisfied: opentelemetry-exporter-otlp-proto-common==1.25.0 in /home/arden/.local/lib/python3.10/site-packages (from opentelemetry-exporter-otlp-proto-grpc>=1.2.0->chromadb<0.6.0,>=0.4.0->langchain_chroma) (1.25.0)\r\n",
      "Requirement already satisfied: opentelemetry-proto==1.25.0 in /home/arden/.local/lib/python3.10/site-packages (from opentelemetry-exporter-otlp-proto-grpc>=1.2.0->chromadb<0.6.0,>=0.4.0->langchain_chroma) (1.25.0)\r\n",
      "Requirement already satisfied: opentelemetry-instrumentation-asgi==0.46b0 in /home/arden/.local/lib/python3.10/site-packages (from opentelemetry-instrumentation-fastapi>=0.41b0->chromadb<0.6.0,>=0.4.0->langchain_chroma) (0.46b0)\r\n",
      "Requirement already satisfied: opentelemetry-instrumentation==0.46b0 in /home/arden/.local/lib/python3.10/site-packages (from opentelemetry-instrumentation-fastapi>=0.41b0->chromadb<0.6.0,>=0.4.0->langchain_chroma) (0.46b0)\r\n",
      "Requirement already satisfied: opentelemetry-semantic-conventions==0.46b0 in /home/arden/.local/lib/python3.10/site-packages (from opentelemetry-instrumentation-fastapi>=0.41b0->chromadb<0.6.0,>=0.4.0->langchain_chroma) (0.46b0)\r\n",
      "Requirement already satisfied: opentelemetry-util-http==0.46b0 in /home/arden/.local/lib/python3.10/site-packages (from opentelemetry-instrumentation-fastapi>=0.41b0->chromadb<0.6.0,>=0.4.0->langchain_chroma) (0.46b0)\r\n",
      "Requirement already satisfied: setuptools>=16.0 in /home/arden/.local/lib/python3.10/site-packages (from opentelemetry-instrumentation==0.46b0->opentelemetry-instrumentation-fastapi>=0.41b0->chromadb<0.6.0,>=0.4.0->langchain_chroma) (72.2.0)\r\n",
      "Requirement already satisfied: wrapt<2.0.0,>=1.0.0 in /home/arden/.local/lib/python3.10/site-packages (from opentelemetry-instrumentation==0.46b0->opentelemetry-instrumentation-fastapi>=0.41b0->chromadb<0.6.0,>=0.4.0->langchain_chroma) (1.16.0)\r\n",
      "Requirement already satisfied: asgiref~=3.0 in /home/arden/.local/lib/python3.10/site-packages (from opentelemetry-instrumentation-asgi==0.46b0->opentelemetry-instrumentation-fastapi>=0.41b0->chromadb<0.6.0,>=0.4.0->langchain_chroma) (3.8.1)\r\n",
      "Requirement already satisfied: monotonic>=1.5 in /usr/lib/python3/dist-packages (from posthog>=2.4.0->chromadb<0.6.0,>=0.4.0->langchain_chroma) (1.5)\r\n",
      "Requirement already satisfied: backoff>=1.10.0 in /home/arden/.local/lib/python3.10/site-packages (from posthog>=2.4.0->chromadb<0.6.0,>=0.4.0->langchain_chroma) (2.2.1)\r\n",
      "Requirement already satisfied: huggingface-hub<1.0,>=0.16.4 in /home/arden/.local/lib/python3.10/site-packages (from tokenizers>=0.13.2->chromadb<0.6.0,>=0.4.0->langchain_chroma) (0.23.4)\r\n",
      "Requirement already satisfied: click>=8.0.0 in /home/arden/.local/lib/python3.10/site-packages (from typer>=0.9.0->chromadb<0.6.0,>=0.4.0->langchain_chroma) (8.1.7)\r\n",
      "Requirement already satisfied: shellingham>=1.3.0 in /home/arden/.local/lib/python3.10/site-packages (from typer>=0.9.0->chromadb<0.6.0,>=0.4.0->langchain_chroma) (1.5.4)\r\n",
      "Requirement already satisfied: rich>=10.11.0 in /home/arden/.local/lib/python3.10/site-packages (from typer>=0.9.0->chromadb<0.6.0,>=0.4.0->langchain_chroma) (13.7.1)\r\n",
      "Requirement already satisfied: mypy-extensions>=0.3.0 in /home/arden/.local/lib/python3.10/site-packages (from typing-inspect<1,>=0.4.0->dataclasses-json<0.7,>=0.5.7->langchain_community) (1.0.0)\r\n",
      "Requirement already satisfied: httptools>=0.5.0 in /home/arden/.local/lib/python3.10/site-packages (from uvicorn[standard]>=0.18.3->chromadb<0.6.0,>=0.4.0->langchain_chroma) (0.6.1)\r\n",
      "Requirement already satisfied: python-dotenv>=0.13 in /home/arden/.local/lib/python3.10/site-packages (from uvicorn[standard]>=0.18.3->chromadb<0.6.0,>=0.4.0->langchain_chroma) (1.0.0)\r\n",
      "Requirement already satisfied: uvloop!=0.15.0,!=0.15.1,>=0.14.0 in /home/arden/.local/lib/python3.10/site-packages (from uvicorn[standard]>=0.18.3->chromadb<0.6.0,>=0.4.0->langchain_chroma) (0.19.0)\r\n",
      "Requirement already satisfied: watchfiles>=0.13 in /home/arden/.local/lib/python3.10/site-packages (from uvicorn[standard]>=0.18.3->chromadb<0.6.0,>=0.4.0->langchain_chroma) (0.21.0)\r\n",
      "Requirement already satisfied: websockets>=10.4 in /home/arden/.local/lib/python3.10/site-packages (from uvicorn[standard]>=0.18.3->chromadb<0.6.0,>=0.4.0->langchain_chroma) (12.0)\r\n",
      "Requirement already satisfied: cachetools<6.0,>=2.0.0 in /home/arden/.local/lib/python3.10/site-packages (from google-auth>=1.0.1->kubernetes>=28.1.0->chromadb<0.6.0,>=0.4.0->langchain_chroma) (5.3.3)\r\n",
      "Requirement already satisfied: pyasn1-modules>=0.2.1 in /home/arden/.local/lib/python3.10/site-packages (from google-auth>=1.0.1->kubernetes>=28.1.0->chromadb<0.6.0,>=0.4.0->langchain_chroma) (0.4.0)\r\n",
      "Requirement already satisfied: rsa<5,>=3.1.4 in /home/arden/.local/lib/python3.10/site-packages (from google-auth>=1.0.1->kubernetes>=28.1.0->chromadb<0.6.0,>=0.4.0->langchain_chroma) (4.9)\r\n",
      "Requirement already satisfied: filelock in /home/arden/.local/lib/python3.10/site-packages (from huggingface-hub<1.0,>=0.16.4->tokenizers>=0.13.2->chromadb<0.6.0,>=0.4.0->langchain_chroma) (3.14.0)\r\n",
      "Requirement already satisfied: fsspec>=2023.5.0 in /home/arden/.local/lib/python3.10/site-packages (from huggingface-hub<1.0,>=0.16.4->tokenizers>=0.13.2->chromadb<0.6.0,>=0.4.0->langchain_chroma) (2024.6.1)\r\n",
      "Requirement already satisfied: zipp>=0.5 in /home/arden/.local/lib/python3.10/site-packages (from importlib-metadata<=7.1,>=6.0->opentelemetry-api>=1.2.0->chromadb<0.6.0,>=0.4.0->langchain_chroma) (3.19.2)\r\n",
      "Requirement already satisfied: markdown-it-py>=2.2.0 in /home/arden/.local/lib/python3.10/site-packages (from rich>=10.11.0->typer>=0.9.0->chromadb<0.6.0,>=0.4.0->langchain_chroma) (3.0.0)\r\n",
      "Requirement already satisfied: pygments<3.0.0,>=2.13.0 in /home/arden/.local/lib/python3.10/site-packages (from rich>=10.11.0->typer>=0.9.0->chromadb<0.6.0,>=0.4.0->langchain_chroma) (2.18.0)\r\n",
      "Requirement already satisfied: humanfriendly>=9.1 in /home/arden/.local/lib/python3.10/site-packages (from coloredlogs->onnxruntime>=1.14.1->chromadb<0.6.0,>=0.4.0->langchain_chroma) (10.0)\r\n",
      "Requirement already satisfied: mpmath<1.4.0,>=1.1.0 in /home/arden/.local/lib/python3.10/site-packages (from sympy->onnxruntime>=1.14.1->chromadb<0.6.0,>=0.4.0->langchain_chroma) (1.3.0)\r\n",
      "Requirement already satisfied: mdurl~=0.1 in /home/arden/.local/lib/python3.10/site-packages (from markdown-it-py>=2.2.0->rich>=10.11.0->typer>=0.9.0->chromadb<0.6.0,>=0.4.0->langchain_chroma) (0.1.2)\r\n",
      "Requirement already satisfied: pyasn1<0.7.0,>=0.4.6 in /home/arden/.local/lib/python3.10/site-packages (from pyasn1-modules>=0.2.1->google-auth>=1.0.1->kubernetes>=28.1.0->chromadb<0.6.0,>=0.4.0->langchain_chroma) (0.6.0)\r\n",
      "\u001B[33mDEPRECATION: distro-info 0.23ubuntu1 has a non-standard version number. pip 24.1 will enforce this behaviour change. A possible replacement is to upgrade to a newer version of distro-info or contact the author to suggest that they release a version with a conforming version number. Discussion can be found at https://github.com/pypa/pip/issues/12063\u001B[0m\u001B[33m\r\n",
      "\u001B[0m\u001B[33mDEPRECATION: python-debian 0.1.36ubuntu1 has a non-standard version number. pip 24.1 will enforce this behaviour change. A possible replacement is to upgrade to a newer version of python-debian or contact the author to suggest that they release a version with a conforming version number. Discussion can be found at https://github.com/pypa/pip/issues/12063\u001B[0m\u001B[33m\r\n",
      "\u001B[0m\r\n",
      "\u001B[1m[\u001B[0m\u001B[34;49mnotice\u001B[0m\u001B[1;39;49m]\u001B[0m\u001B[39;49m A new release of pip is available: \u001B[0m\u001B[31;49m24.0\u001B[0m\u001B[39;49m -> \u001B[0m\u001B[32;49m24.2\u001B[0m\r\n",
      "\u001B[1m[\u001B[0m\u001B[34;49mnotice\u001B[0m\u001B[1;39;49m]\u001B[0m\u001B[39;49m To update, run: \u001B[0m\u001B[32;49mpython3.10 -m pip install --upgrade pip\u001B[0m\r\n",
      "Defaulting to user installation because normal site-packages is not writeable\r\n",
      "Looking in indexes: https://pypi.org/simple, https://pypi.ngc.nvidia.com\r\n",
      "Requirement already satisfied: jq in /home/arden/.local/lib/python3.10/site-packages (1.7.0)\r\n",
      "\u001B[33mDEPRECATION: distro-info 0.23ubuntu1 has a non-standard version number. pip 24.1 will enforce this behaviour change. A possible replacement is to upgrade to a newer version of distro-info or contact the author to suggest that they release a version with a conforming version number. Discussion can be found at https://github.com/pypa/pip/issues/12063\u001B[0m\u001B[33m\r\n",
      "\u001B[0m\u001B[33mDEPRECATION: python-debian 0.1.36ubuntu1 has a non-standard version number. pip 24.1 will enforce this behaviour change. A possible replacement is to upgrade to a newer version of python-debian or contact the author to suggest that they release a version with a conforming version number. Discussion can be found at https://github.com/pypa/pip/issues/12063\u001B[0m\u001B[33m\r\n",
      "\u001B[0m\r\n",
      "\u001B[1m[\u001B[0m\u001B[34;49mnotice\u001B[0m\u001B[1;39;49m]\u001B[0m\u001B[39;49m A new release of pip is available: \u001B[0m\u001B[31;49m24.0\u001B[0m\u001B[39;49m -> \u001B[0m\u001B[32;49m24.2\u001B[0m\r\n",
      "\u001B[1m[\u001B[0m\u001B[34;49mnotice\u001B[0m\u001B[1;39;49m]\u001B[0m\u001B[39;49m To update, run: \u001B[0m\u001B[32;49mpython3.10 -m pip install --upgrade pip\u001B[0m\r\n"
     ]
    }
   ]
  },
  {
   "cell_type": "code",
   "source": [
    "!pip install sqlite3 >= 3.35.0"
   ],
   "metadata": {
    "id": "OIZh3xcVAGQY",
    "ExecuteTime": {
     "end_time": "2024-08-15T09:57:14.394093909Z",
     "start_time": "2024-08-15T09:57:11.423308649Z"
    }
   },
   "id": "OIZh3xcVAGQY",
   "execution_count": 9,
   "outputs": [
    {
     "name": "stdout",
     "output_type": "stream",
     "text": [
      "\u001B[31mERROR: Could not find a version that satisfies the requirement sqlite3 (from versions: none)\u001B[0m\u001B[31m\r\n",
      "\u001B[0m\u001B[31mERROR: No matching distribution found for sqlite3\u001B[0m\u001B[31m\r\n",
      "\u001B[0m\r\n",
      "\u001B[1m[\u001B[0m\u001B[34;49mnotice\u001B[0m\u001B[1;39;49m]\u001B[0m\u001B[39;49m A new release of pip is available: \u001B[0m\u001B[31;49m24.0\u001B[0m\u001B[39;49m -> \u001B[0m\u001B[32;49m24.2\u001B[0m\r\n",
      "\u001B[1m[\u001B[0m\u001B[34;49mnotice\u001B[0m\u001B[1;39;49m]\u001B[0m\u001B[39;49m To update, run: \u001B[0m\u001B[32;49mpython3.10 -m pip install --upgrade pip\u001B[0m\r\n"
     ]
    }
   ]
  },
  {
   "cell_type": "code",
   "execution_count": 10,
   "id": "5cf74be6-5f40-4f6d-8689-b6b42ced8b70",
   "metadata": {
    "id": "5cf74be6-5f40-4f6d-8689-b6b42ced8b70",
    "ExecuteTime": {
     "end_time": "2024-08-15T09:57:14.427858946Z",
     "start_time": "2024-08-15T09:57:14.405528843Z"
    }
   },
   "outputs": [],
   "source": [
    "from langchain_community.document_loaders import JSONLoader\n",
    "import json\n",
    "from typing import AsyncIterator, Iterator\n",
    "\n",
    "from langchain_core.document_loaders import BaseLoader\n",
    "from langchain_core.documents import Document\n",
    "\n",
    "\n",
    "class PTTDocumentLoader(BaseLoader):\n",
    "    def __init__(self, file_path: str) -> None:\n",
    "        self.file_path = file_path\n",
    "\n",
    "    def lazy_load(self) -> Iterator[Document]:  # <-- Does not take any arguments\n",
    "\n",
    "        with open(self.file_path, 'r') as f:\n",
    "            makeup = json.load(f)\n",
    "\n",
    "            line_number = 0\n",
    "            for line in makeup:\n",
    "                yield Document(\n",
    "                    page_content=line,\n",
    "                    metadata={\"line_number\": line_number, \"source\": self.file_path},\n",
    "                )\n",
    "                line_number += 1\n",
    "\n",
    "    # alazy_load is OPTIONAL. If you leave out the implementation, a default implementation which delegates to lazy_load will be used!\n",
    "    async def alazy_load(self) -> AsyncIterator[Document]:  # <-- Does not take any arguments\n",
    "        async with aiofiles.open(self.file_path, 'r', encoding='utf-8') as f:\n",
    "            contents = await f.read()\n",
    "            makeup = json.loads(contents)\n",
    "\n",
    "            line_number = 0\n",
    "            for line in makeup:\n",
    "                yield Document(\n",
    "                    page_content=line,\n",
    "                    metadata={\"line_number\": line_number, \"source\": self.file_path},\n",
    "                )\n",
    "                line_number += 1\n",
    "\n",
    "all_splits = PTTDocumentLoader(\"data/json/posts_chunk_防曬.json\")\n",
    "\n"
   ]
  },
  {
   "cell_type": "code",
   "source": [
    "\n",
    "# Load the documents from the loader\n",
    "loaded_documents = all_splits.load()\n",
    "\n",
    "# Now you can access the loaded documents as a list\n",
    "first_document = loaded_documents[0]\n",
    "\n",
    "# Print the content of the first document\n",
    "print(first_document.page_content)"
   ],
   "metadata": {
    "colab": {
     "base_uri": "https://localhost:8080/"
    },
    "id": "8fIb4hlX_cMx",
    "outputId": "f1d839a8-42c2-4b83-9646-1dc1dd8baa50",
    "ExecuteTime": {
     "end_time": "2024-08-15T09:57:14.585892626Z",
     "start_time": "2024-08-15T09:57:14.424979501Z"
    }
   },
   "id": "8fIb4hlX_cMx",
   "execution_count": 11,
   "outputs": [
    {
     "name": "stdout",
     "output_type": "stream",
     "text": [
      "心得: Dr.Althea 女神水光氣墊粉餅使用心得\n",
      "使用者評價:\n",
      "1. 眼睛好美喲\n",
      "2. 剛完妝那張真是美翻了\n",
      "3. 盒子好漂亮\n",
      "4. 我覺得浮粉蠻嚴重的lol 不是會和出油融合的感覺\n",
      "5. 近照感覺不太ok\n",
      "6. 近照全臉都浮粉了吧 不過剛上很美\n",
      "品牌:sofina 面膜 hello out you\n",
      "標籤:液 粉底液 粉餅 蜜粉 遮瑕膏 粉撲 粉盒 面膜 韓國 台灣 遮瑕 自然 不悶 防曬 隔離 細紋 底妝 妝前 裸妝 眼下細紋 粉底 氣墊粉餅 敏感 補妝 控油 光澤感\n"
     ]
    }
   ]
  },
  {
   "cell_type": "code",
   "execution_count": 12,
   "outputs": [
    {
     "name": "stdout",
     "output_type": "stream",
     "text": [
      "\u001B[33mDEPRECATION: distro-info 0.23ubuntu1 has a non-standard version number. pip 24.1 will enforce this behaviour change. A possible replacement is to upgrade to a newer version of distro-info or contact the author to suggest that they release a version with a conforming version number. Discussion can be found at https://github.com/pypa/pip/issues/12063\u001B[0m\u001B[33m\r\n",
      "\u001B[0m\u001B[33mDEPRECATION: python-debian 0.1.36ubuntu1 has a non-standard version number. pip 24.1 will enforce this behaviour change. A possible replacement is to upgrade to a newer version of python-debian or contact the author to suggest that they release a version with a conforming version number. Discussion can be found at https://github.com/pypa/pip/issues/12063\u001B[0m\u001B[33m\r\n",
      "\u001B[0m\r\n",
      "\u001B[1m[\u001B[0m\u001B[34;49mnotice\u001B[0m\u001B[1;39;49m]\u001B[0m\u001B[39;49m A new release of pip is available: \u001B[0m\u001B[31;49m24.0\u001B[0m\u001B[39;49m -> \u001B[0m\u001B[32;49m24.2\u001B[0m\r\n",
      "\u001B[1m[\u001B[0m\u001B[34;49mnotice\u001B[0m\u001B[1;39;49m]\u001B[0m\u001B[39;49m To update, run: \u001B[0m\u001B[32;49mpython3.10 -m pip install --upgrade pip\u001B[0m\r\n"
     ]
    }
   ],
   "source": [],
   "metadata": {
    "collapsed": false,
    "ExecuteTime": {
     "end_time": "2024-08-15T09:57:21.498134956Z",
     "start_time": "2024-08-15T09:57:14.592280698Z"
    }
   },
   "id": "a2469cc1437ed824"
  },
  {
   "cell_type": "code",
   "execution_count": 12,
   "outputs": [],
   "source": [],
   "metadata": {
    "collapsed": false,
    "ExecuteTime": {
     "end_time": "2024-08-15T09:57:21.508019132Z",
     "start_time": "2024-08-15T09:57:21.498787306Z"
    }
   },
   "id": "6deb14acc204a67b"
  },
  {
   "cell_type": "code",
   "execution_count": 13,
   "outputs": [],
   "source": [],
   "metadata": {
    "collapsed": false,
    "ExecuteTime": {
     "end_time": "2024-08-15T09:57:21.541317234Z",
     "start_time": "2024-08-15T09:57:21.509318563Z"
    }
   },
   "id": "66d47177651ac828"
  },
  {
   "cell_type": "code",
   "execution_count": 14,
   "id": "1a0d25f8-8a45-4ec7-b419-c36e231fde13",
   "metadata": {
    "id": "1a0d25f8-8a45-4ec7-b419-c36e231fde13",
    "colab": {
     "base_uri": "https://localhost:8080/",
     "height": 356
    },
    "outputId": "267c56cc-bd32-4d24-c348-7ae346dc1460",
    "ExecuteTime": {
     "end_time": "2024-08-15T09:57:22.631365459Z",
     "start_time": "2024-08-15T09:57:21.537123003Z"
    }
   },
   "outputs": [
    {
     "data": {
      "text/plain": "0"
     },
     "execution_count": 14,
     "metadata": {},
     "output_type": "execute_result"
    }
   ],
   "source": [
    "from langchain_openai import OpenAIEmbeddings\n",
    "# vectorstore = Chroma.from_documents(documents=loaded_documents, embedding=OpenAIEmbeddings())\n",
    "from langchain_milvus import Milvus\n",
    "from langchain_openai import OpenAIEmbeddings\n",
    "embeddings = OpenAIEmbeddings(model=\"text-embedding-3-large\")\n",
    "\n",
    "\n",
    "# The easiest way is to use Milvus Lite where everything is stored in a local file.\n",
    "# If you have a Milvus server you can use the server URI such as \"http://localhost:19530\".\n",
    "URI = \"./milvus_example.db\"\n",
    "\n",
    "vectorstore = Milvus(\n",
    "    embedding_function=embeddings,\n",
    "    connection_args={\"uri\": URI},\n",
    "\n",
    ")\n",
    "\n",
    "retriever = vectorstore.as_retriever(search_type=\"similarity\", search_kwargs={\"k\": 10})\n",
    "retrieved_docs = retriever.invoke(\"含防曬 不黏膩  不厚重 的化妝品推薦\")\n",
    "\n",
    "len(retrieved_docs)"
   ]
  },
  {
   "cell_type": "code",
   "execution_count": 15,
   "id": "58db0a6a-f1ad-4d28-acf8-98be9ed3c968",
   "metadata": {
    "id": "58db0a6a-f1ad-4d28-acf8-98be9ed3c968",
    "ExecuteTime": {
     "end_time": "2024-08-15T09:57:22.691265514Z",
     "start_time": "2024-08-15T09:57:22.644190038Z"
    }
   },
   "outputs": [
    {
     "ename": "IndexError",
     "evalue": "list index out of range",
     "output_type": "error",
     "traceback": [
      "\u001B[0;31m---------------------------------------------------------------------------\u001B[0m",
      "\u001B[0;31mIndexError\u001B[0m                                Traceback (most recent call last)",
      "Cell \u001B[0;32mIn[15], line 1\u001B[0m\n\u001B[0;32m----> 1\u001B[0m \u001B[38;5;28mprint\u001B[39m(\u001B[43mretrieved_docs\u001B[49m\u001B[43m[\u001B[49m\u001B[38;5;241;43m1\u001B[39;49m\u001B[43m]\u001B[49m\u001B[38;5;241m.\u001B[39mpage_content)\n",
      "\u001B[0;31mIndexError\u001B[0m: list index out of range"
     ]
    }
   ],
   "source": [
    "print(retrieved_docs[1].page_content)"
   ]
  },
  {
   "cell_type": "code",
   "execution_count": null,
   "id": "d6820cf3-e14d-4275-bd00-aa1b8262b1ae",
   "metadata": {
    "id": "d6820cf3-e14d-4275-bd00-aa1b8262b1ae",
    "ExecuteTime": {
     "start_time": "2024-08-15T09:57:22.672939033Z"
    }
   },
   "outputs": [],
   "source": [
    "from langchain_core.output_parsers import StrOutputParser\n",
    "from langchain_core.runnables import RunnablePassthrough\n",
    "\n",
    "\n",
    "def format_docs(docs):\n",
    "    return \"\\n\\n\".join(doc.page_content for doc in docs)\n",
    "\n",
    "\n",
    "rag_chain = (\n",
    "    {\"context\": retriever | format_docs, \"question\": RunnablePassthrough()}\n",
    "    | prompt\n",
    "    | llm\n",
    "    | StrOutputParser()\n",
    ")\n",
    "\n",
    "for chunk in rag_chain.stream(\"男性香水品牌以及他們的特色 \"):\n",
    "    print(chunk, end=\"\", flush=True)"
   ]
  }
 ],
 "metadata": {
  "kernelspec": {
   "display_name": "Python 3 (ipykernel)",
   "language": "python",
   "name": "python3"
  },
  "language_info": {
   "codemirror_mode": {
    "name": "ipython",
    "version": 3
   },
   "file_extension": ".py",
   "mimetype": "text/x-python",
   "name": "python",
   "nbconvert_exporter": "python",
   "pygments_lexer": "ipython3",
   "version": "3.10.14"
  },
  "colab": {
   "provenance": []
  }
 },
 "nbformat": 4,
 "nbformat_minor": 5
}
